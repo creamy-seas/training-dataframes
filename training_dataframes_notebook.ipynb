{
 "cells": [
  {
   "cell_type": "markdown",
   "metadata": {
    "ein.tags": "worksheet-0",
    "slideshow": {
     "slide_type": "-"
    }
   },
   "source": [
    "# Dataframes\n",
    "Large datasets are easiest to work with, when the individual parameters are stored in labelled **<font color=red>columns**</font> or, equivalently, **<font color=red>fields</font>**.\n",
    "\n",
    "<img src=\"images/clean_dataset.png\">\n",
    "\n",
    "***\n",
    "\n",
    "The best way work with these datasets is with DataFrames, which allow:\n",
    "- Efficient storage of parameters;\n",
    "- Clear way of accessing parametersl\n",
    "- Robust set of functions (sorting, function mapping, max and min) to analyse and edit the data."
   ]
  },
  {
   "cell_type": "markdown",
   "metadata": {
    "ein.tags": "worksheet-0",
    "slideshow": {
     "slide_type": "-"
    }
   },
   "source": [
    "# Title\n",
    "***\n",
    "<font color=red> Test</font>"
   ]
  },
  {
   "cell_type": "markdown",
   "metadata": {
    "ein.tags": "worksheet-0",
    "slideshow": {
     "slide_type": "-"
    }
   },
   "source": [
    "# Packages and startup\n",
    "Using DataFrames requires the:\n",
    "- `pandas` package for the DataFrame functionality;\n",
    "- `pickle` package for saving dataframes to files;\n",
    "- `IPython.display` package to print out the Dataframes in a nice format;\n",
    "\n",
    "Dataframes will be loaded and saved from from `.pkl` files - it is the easiest and most hassle-free way of loading data.\n",
    "```python\n",
    "dataframe_example = pd.read_pickle(\"FILENAME\")\n",
    "```\n",
    "\n",
    "The best way to display a dataframe is with the display function (<font color=red>do not forget to import <code>IPython.display</code></font>)\n",
    "```python\n",
    "display(dataframe_example)\n",
    "```"
   ]
  },
  {
   "cell_type": "code",
   "execution_count": 2,
   "metadata": {
    "autoscroll": false,
    "ein.hycell": false,
    "ein.tags": "worksheet-0",
    "slideshow": {
     "slide_type": "-"
    }
   },
   "outputs": [
    {
     "data": {
      "text/html": [
       "<div>\n",
       "<style scoped>\n",
       "    .dataframe tbody tr th:only-of-type {\n",
       "        vertical-align: middle;\n",
       "    }\n",
       "\n",
       "    .dataframe tbody tr th {\n",
       "        vertical-align: top;\n",
       "    }\n",
       "\n",
       "    .dataframe thead th {\n",
       "        text-align: right;\n",
       "    }\n",
       "</style>\n",
       "<table border=\"1\" class=\"dataframe\">\n",
       "  <thead>\n",
       "    <tr style=\"text-align: right;\">\n",
       "      <th></th>\n",
       "      <th>Brand</th>\n",
       "      <th>Description</th>\n",
       "      <th>Part_number</th>\n",
       "      <th>Price</th>\n",
       "      <th>Qty</th>\n",
       "      <th>Remark</th>\n",
       "      <th>Group_name</th>\n",
       "      <th>Unique_ID</th>\n",
       "    </tr>\n",
       "  </thead>\n",
       "  <tbody>\n",
       "    <tr>\n",
       "      <td>0</td>\n",
       "      <td>Intel</td>\n",
       "      <td>Xeon D-2183IT</td>\n",
       "      <td>FH8067303782501 Tray</td>\n",
       "      <td>---</td>\n",
       "      <td>---</td>\n",
       "      <td>NaN</td>\n",
       "      <td>Xeon D Processor Tray</td>\n",
       "      <td>CPU_00000</td>\n",
       "    </tr>\n",
       "    <tr>\n",
       "      <td>1</td>\n",
       "      <td>Intel</td>\n",
       "      <td>Xeon W-2195</td>\n",
       "      <td>CD8067303805901 Tray</td>\n",
       "      <td>Call</td>\n",
       "      <td>20</td>\n",
       "      <td>3 days</td>\n",
       "      <td>Xeon W Processor Tray</td>\n",
       "      <td>CPU_00001</td>\n",
       "    </tr>\n",
       "    <tr>\n",
       "      <td>2</td>\n",
       "      <td>Intel</td>\n",
       "      <td>Xeon W-2175</td>\n",
       "      <td>CD8067303842300 Tray</td>\n",
       "      <td>Call</td>\n",
       "      <td>20</td>\n",
       "      <td>3 days</td>\n",
       "      <td>Xeon W Processor Tray</td>\n",
       "      <td>CPU_00002</td>\n",
       "    </tr>\n",
       "    <tr>\n",
       "      <td>3</td>\n",
       "      <td>Intel</td>\n",
       "      <td>Xeon W-2155</td>\n",
       "      <td>CD8067303533703 Tray</td>\n",
       "      <td>Call</td>\n",
       "      <td>20</td>\n",
       "      <td>3 days</td>\n",
       "      <td>Xeon W Processor Tray</td>\n",
       "      <td>CPU_00003</td>\n",
       "    </tr>\n",
       "    <tr>\n",
       "      <td>4</td>\n",
       "      <td>Intel</td>\n",
       "      <td>Xeon W-2145</td>\n",
       "      <td>CD8067303533601 Tray</td>\n",
       "      <td>USD1,200.00</td>\n",
       "      <td>20</td>\n",
       "      <td>3 days</td>\n",
       "      <td>Xeon W Processor Tray</td>\n",
       "      <td>CPU_00004</td>\n",
       "    </tr>\n",
       "    <tr>\n",
       "      <td>...</td>\n",
       "      <td>...</td>\n",
       "      <td>...</td>\n",
       "      <td>...</td>\n",
       "      <td>...</td>\n",
       "      <td>...</td>\n",
       "      <td>...</td>\n",
       "      <td>...</td>\n",
       "      <td>...</td>\n",
       "    </tr>\n",
       "    <tr>\n",
       "      <td>3736</td>\n",
       "      <td>AMD / Tray</td>\n",
       "      <td>Ryzen 2300U</td>\n",
       "      <td>YM2300C4T4MFB</td>\n",
       "      <td>---</td>\n",
       "      <td>---</td>\n",
       "      <td>NaN</td>\n",
       "      <td>AMD Mobile Processor</td>\n",
       "      <td>CPU_03736</td>\n",
       "    </tr>\n",
       "    <tr>\n",
       "      <td>3737</td>\n",
       "      <td>Intel</td>\n",
       "      <td>MMX-233</td>\n",
       "      <td>Tray</td>\n",
       "      <td>---</td>\n",
       "      <td>---</td>\n",
       "      <td>NaN</td>\n",
       "      <td>AMD Mobile Processor</td>\n",
       "      <td>CPU_03737</td>\n",
       "    </tr>\n",
       "    <tr>\n",
       "      <td>3738</td>\n",
       "      <td>Intel</td>\n",
       "      <td>Xeon E-2176G</td>\n",
       "      <td>CM8068403380018 Tray</td>\n",
       "      <td>---</td>\n",
       "      <td>---</td>\n",
       "      <td>NaN</td>\n",
       "      <td>Xeon E Processor Tray</td>\n",
       "      <td>CPU_03738</td>\n",
       "    </tr>\n",
       "    <tr>\n",
       "      <td>3739</td>\n",
       "      <td>Intel</td>\n",
       "      <td>Xeon E-2186G</td>\n",
       "      <td>CM8068403379918 Tray</td>\n",
       "      <td>---</td>\n",
       "      <td>---</td>\n",
       "      <td>NaN</td>\n",
       "      <td>Xeon E Processor Tray</td>\n",
       "      <td>CPU_03739</td>\n",
       "    </tr>\n",
       "    <tr>\n",
       "      <td>3740</td>\n",
       "      <td>Intel</td>\n",
       "      <td>Xeon E3-1220 V6</td>\n",
       "      <td>BX80677E31220V6</td>\n",
       "      <td>---</td>\n",
       "      <td>---</td>\n",
       "      <td>NaN</td>\n",
       "      <td>Xeon Processor Box</td>\n",
       "      <td>CPU_03740</td>\n",
       "    </tr>\n",
       "  </tbody>\n",
       "</table>\n",
       "<p>3741 rows × 8 columns</p>\n",
       "</div>"
      ],
      "text/plain": [
       "           Brand      Description           Part_number        Price  Qty  \\\n",
       "0          Intel    Xeon D-2183IT  FH8067303782501 Tray          ---  ---   \n",
       "1          Intel      Xeon W-2195  CD8067303805901 Tray         Call   20   \n",
       "2          Intel      Xeon W-2175  CD8067303842300 Tray         Call   20   \n",
       "3          Intel      Xeon W-2155  CD8067303533703 Tray         Call   20   \n",
       "4          Intel      Xeon W-2145  CD8067303533601 Tray  USD1,200.00   20   \n",
       "...          ...              ...                   ...          ...  ...   \n",
       "3736  AMD / Tray      Ryzen 2300U         YM2300C4T4MFB          ---  ---   \n",
       "3737       Intel          MMX-233                  Tray          ---  ---   \n",
       "3738       Intel     Xeon E-2176G  CM8068403380018 Tray          ---  ---   \n",
       "3739       Intel     Xeon E-2186G  CM8068403379918 Tray          ---  ---   \n",
       "3740       Intel  Xeon E3-1220 V6       BX80677E31220V6          ---  ---   \n",
       "\n",
       "      Remark             Group_name  Unique_ID  \n",
       "0        NaN  Xeon D Processor Tray  CPU_00000  \n",
       "1     3 days  Xeon W Processor Tray  CPU_00001  \n",
       "2     3 days  Xeon W Processor Tray  CPU_00002  \n",
       "3     3 days  Xeon W Processor Tray  CPU_00003  \n",
       "4     3 days  Xeon W Processor Tray  CPU_00004  \n",
       "...      ...                    ...        ...  \n",
       "3736     NaN   AMD Mobile Processor  CPU_03736  \n",
       "3737     NaN   AMD Mobile Processor  CPU_03737  \n",
       "3738     NaN  Xeon E Processor Tray  CPU_03738  \n",
       "3739     NaN  Xeon E Processor Tray  CPU_03739  \n",
       "3740     NaN     Xeon Processor Box  CPU_03740  \n",
       "\n",
       "[3741 rows x 8 columns]"
      ]
     },
     "metadata": {},
     "output_type": "display_data"
    }
   ],
   "source": [
    "import pandas as pd\n",
    "from IPython.display import display\n",
    "import pickle\n",
    "\n",
    "# 1 - load and display dataframe\n",
    "dataframe = pd.read_pickle(\"datasets/CPU_OfferScraperOutput.pkl\")\n",
    "display(dataframe)"
   ]
  },
  {
   "cell_type": "markdown",
   "metadata": {
    "ein.tags": "worksheet-0",
    "slideshow": {
     "slide_type": "-"
    }
   },
   "source": [
    "# Anatomy of a DataFrame\n",
    "<img src=\"images_inkscape/frame_anatomy.png\" height=\"30\">\n",
    "\n",
    "\n",
    "- **<font color=red>Parameters</font>** are the individual cells;\n",
    "- **<font color=red>Index</font>** reffers to the row. Operations on the index are called on `axis=0`;\n",
    "- **<font color=red>Fields</font>** are the columns. Operations on the index are called on `axis=1`;"
   ]
  },
  {
   "cell_type": "markdown",
   "metadata": {
    "ein.tags": "worksheet-0",
    "slideshow": {
     "slide_type": "-"
    }
   },
   "source": [
    "# Accessing individual elements\n",
    "Elements from the Dataframe can be accessed in these 3 common ways:\n",
    "- By column:            `dataframe_example['COLUMN_NAME']`              which results in a 1D list that can be iterated through;\n",
    "- By column and index:  `dataframe_example['COLUMN'][INDEX]]`           which prints off the specified value in the specified column"
   ]
  },
  {
   "cell_type": "markdown",
   "metadata": {
    "ein.tags": "worksheet-0",
    "slideshow": {
     "slide_type": "-"
    }
   },
   "source": [
    "<font color=cyan size=4>⚠⚠⚠⚠⚠⚠⚠⚠⚠⚠⚠⚠⚠⚠⚠⚠⚠⚠⚠</font>\n",
    "\n",
    "<font color=red size=2> <b> Do not read and change the same dataframe object.</b> </font> - whenever you want to look through a dataframe, and then edit it, make a copy\n",
    "```python\n",
    "brand = dataframe_example['Brand'].copy()\n",
    "for idx, i in brand:\n",
    "    dataframe_example['Brand'][idx] = brand + \"⦿\"\n",
    "```"
   ]
  },
  {
   "cell_type": "code",
   "execution_count": 105,
   "metadata": {
    "autoscroll": false,
    "ein.hycell": false,
    "ein.tags": "worksheet-0",
    "slideshow": {
     "slide_type": "-"
    }
   },
   "outputs": [
    {
     "name": "stdout",
     "output_type": "stream",
     "text": [
      "[1, '🍄', 2, 'toad', '👾', 3, 'stool']\n"
     ]
    }
   ],
   "source": [
    "########################################\n",
    "# 🍏 Example of how to create lists\n",
    "########################################\n",
    "# 1 - create an empty list\n",
    "list_example = []\n",
    "\n",
    "# 2 - use the appned function to add single elemnts\n",
    "list_example.append(1)\n",
    "list_example.append(\"🍄\")\n",
    "list_example.append(2)\n",
    "list_example.append(\"toad\")\n",
    "\n",
    "# 3 - use the + function to add another list\n",
    "list_example = list_example + [\"👾\", 3, \"stool\"]\n",
    "\n",
    "# 4 -see the result\n",
    "print(list_example)"
   ]
  },
  {
   "cell_type": "code",
   "execution_count": 108,
   "metadata": {
    "autoscroll": false,
    "ein.hycell": false,
    "ein.tags": "worksheet-0",
    "slideshow": {
     "slide_type": "-"
    }
   },
   "outputs": [
    {
     "name": "stdout",
     "output_type": "stream",
     "text": [
      "→ Excracting from file:\t datasets/FlashCard_OfferScraperOutput.pkl\n",
      "['16GB Micro SDHC Extreme C10 4K UHS-I 90mb/s', '16GB TransFlash (Micro SDXC) Extreme 60mb/s', '128GB MicroSDXC UHS-I card for Nintendo Switch', '64GB micro SDXC C10 Exceria UHS-I 98mb/s']\n",
      "→ Excracting from file:\t datasets/SSD_OfferScraperOutput.pkl\n",
      "['480GB SSD Green 2.5\" 7mm SATA III 6Gb/s', '400GB SSD SATA3 2.5 inch MLC S3710 Series', '120G BX500 2.5\" SSD SATA', '250G Ultra II SSD SATAIII 2.5\" SSD']\n",
      "→ Excracting from file:\t datasets/Module_OfferScraperOutput.pkl\n",
      "['DDR4 PC2666 SO-DIMM 2Gx64', 'DDR4 PC2666 SO-DIMM 2Gx64', 'DDR4 PC2666 SO-DIMM 2Gx64', 'DDR4 PC2666 SO-DIMM 1Gx64']\n",
      "→ Excracting from file:\t datasets/DRAM_OfferScraperOutput.pkl\n",
      "['GDDR5 256Kx32-24', 'GDDR5 256Kx32-25', 'GDDR5 256Mx32 1.35v (8Gb)', 'GDDR5 256Mx32-80']\n"
     ]
    }
   ],
   "source": [
    "########################################\n",
    "# 📔 Extract all of the brands from files into a single list\n",
    "#    1 - modify the example below that prints out the Description column\n",
    "#    2 - using above example with list, find a way of storing all of the brands from all the files in a single list\n",
    "########################################\n",
    "files = [\"datasets/FlashCard_OfferScraperOutput.pkl\",\n",
    "         \"datasets/SSD_OfferScraperOutput.pkl\",\n",
    "         \"datasets/Module_OfferScraperOutput.pkl\",\n",
    "         \"datasets/DRAM_OfferScraperOutput.pkl\"]\n",
    "\n",
    "# 1 - for loop goes through each file in the list above, and calls it f_file\n",
    "for f_file in files:\n",
    "    print(\"→ Excracting from file:\\t\", f_file)\n",
    "\n",
    "    # 2 - load the dataframe from the f_file that is set for the current loop\n",
    "    f_dataframe = pd.read_pickle(f_file)\n",
    "\n",
    "    # 3 - get the description column\n",
    "    f_description = f_dataframe['Description'].copy()\n",
    "\n",
    "    # 4 - turn it into a list\n",
    "    f_description = list(f_description)\n",
    "\n",
    "    # 5 - print the elements from 6-9 (just so that it doesn't print all of the entries out)\n",
    "    print(f_description[6:10])"
   ]
  },
  {
   "cell_type": "code",
   "execution_count": 112,
   "metadata": {
    "autoscroll": false,
    "ein.hycell": false,
    "ein.tags": "worksheet-0",
    "slideshow": {
     "slide_type": "-"
    }
   },
   "outputs": [
    {
     "name": "stdout",
     "output_type": "stream",
     "text": [
      "0 \t→\t SK Hynix\n",
      "1 \t→\t Micron\n",
      "2 \t→\t Samsung\n",
      "3 \t→\t Samsung\n",
      "4 \t→\t Micron\n",
      "5 \t→\t Micron\n",
      "6 \t→\t Samsung\n",
      "7 \t→\t Samsung\n",
      "8 \t→\t SK Hynix\n",
      "9 \t→\t Micron\n"
     ]
    }
   ],
   "source": [
    "########################################\n",
    "# 🍏 Example of how to go through a single column of a dataframe and change values\n",
    "########################################\n",
    "# 1 - load dataframe\n",
    "dataframe_example = pd.read_pickle(\"datasets/DRAM_OfferScraperOutput.pkl\")\n",
    "\n",
    "# 2 - extract the brand column\n",
    "brand = dataframe_example['Brand'].copy() # <--------------------  A copy is made, since the for loop may edit the original dataframe\n",
    "brand = brand[:10]             # cut to only the first 10 elements (for compactness)\n",
    "\n",
    "# 3 - enumerating, eveery element in \"f_brand\"\n",
    "#     and gives it a unique idx\n",
    "for idx, f_brand in enumerate(brand):\n",
    "    print(idx, \"\\t→\\t\", f_brand)"
   ]
  },
  {
   "cell_type": "code",
   "execution_count": 114,
   "metadata": {
    "autoscroll": false,
    "ein.hycell": false,
    "ein.tags": "worksheet-0",
    "slideshow": {
     "slide_type": "-"
    }
   },
   "outputs": [
    {
     "data": {
      "text/html": [
       "<div>\n",
       "<style scoped>\n",
       "    .dataframe tbody tr th:only-of-type {\n",
       "        vertical-align: middle;\n",
       "    }\n",
       "\n",
       "    .dataframe tbody tr th {\n",
       "        vertical-align: top;\n",
       "    }\n",
       "\n",
       "    .dataframe thead th {\n",
       "        text-align: right;\n",
       "    }\n",
       "</style>\n",
       "<table border=\"1\" class=\"dataframe\">\n",
       "  <thead>\n",
       "    <tr style=\"text-align: right;\">\n",
       "      <th></th>\n",
       "      <th>Brand</th>\n",
       "      <th>Description</th>\n",
       "      <th>Part_number</th>\n",
       "      <th>Price</th>\n",
       "      <th>Qty</th>\n",
       "      <th>Remark</th>\n",
       "      <th>Group_name</th>\n",
       "      <th>Unique_ID</th>\n",
       "    </tr>\n",
       "  </thead>\n",
       "  <tbody>\n",
       "    <tr>\n",
       "      <td>0</td>\n",
       "      <td>🍄</td>\n",
       "      <td>GDDR5 256Mx32 1.35v (8Gb)</td>\n",
       "      <td>H5GQ8H24MJR-R4C</td>\n",
       "      <td>USD6.00</td>\n",
       "      <td>3200</td>\n",
       "      <td>2 days</td>\n",
       "      <td>GDDR5</td>\n",
       "      <td>DRAM_00000</td>\n",
       "    </tr>\n",
       "    <tr>\n",
       "      <td>1</td>\n",
       "      <td>Micron</td>\n",
       "      <td>GDDR5 256Mx32-60</td>\n",
       "      <td>MT51J256M32HF-60:A</td>\n",
       "      <td>USD4.10</td>\n",
       "      <td>10000</td>\n",
       "      <td>4 days</td>\n",
       "      <td>GDDR5</td>\n",
       "      <td>DRAM_00001</td>\n",
       "    </tr>\n",
       "    <tr>\n",
       "      <td>2</td>\n",
       "      <td>🍄</td>\n",
       "      <td>GDDR5 256Kx32-03</td>\n",
       "      <td>K4G80325FB-HC03</td>\n",
       "      <td>Call</td>\n",
       "      <td>---</td>\n",
       "      <td>5 days</td>\n",
       "      <td>GDDR5</td>\n",
       "      <td>DRAM_00002</td>\n",
       "    </tr>\n",
       "    <tr>\n",
       "      <td>3</td>\n",
       "      <td>Samsung</td>\n",
       "      <td>GDDR5 256Kx32-28</td>\n",
       "      <td>K4G80325FB-HC28</td>\n",
       "      <td>Call</td>\n",
       "      <td>10080</td>\n",
       "      <td>7 days</td>\n",
       "      <td>GDDR5</td>\n",
       "      <td>DRAM_00003</td>\n",
       "    </tr>\n",
       "    <tr>\n",
       "      <td>4</td>\n",
       "      <td>Micron</td>\n",
       "      <td>GDDR5 256Mx32-70</td>\n",
       "      <td>MT51J256M32HF-70:B</td>\n",
       "      <td>USD5.35</td>\n",
       "      <td>30000</td>\n",
       "      <td>3 days</td>\n",
       "      <td>GDDR5</td>\n",
       "      <td>DRAM_00004</td>\n",
       "    </tr>\n",
       "    <tr>\n",
       "      <td>...</td>\n",
       "      <td>...</td>\n",
       "      <td>...</td>\n",
       "      <td>...</td>\n",
       "      <td>...</td>\n",
       "      <td>...</td>\n",
       "      <td>...</td>\n",
       "      <td>...</td>\n",
       "      <td>...</td>\n",
       "    </tr>\n",
       "    <tr>\n",
       "      <td>9920</td>\n",
       "      <td>Samsung</td>\n",
       "      <td>Direct RDRAM 288Mx18</td>\n",
       "      <td>K4R881869A-FCK8000</td>\n",
       "      <td>---</td>\n",
       "      <td>---</td>\n",
       "      <td>NaN</td>\n",
       "      <td>FPM Fast Page Mode</td>\n",
       "      <td>DRAM_09920</td>\n",
       "    </tr>\n",
       "    <tr>\n",
       "      <td>9921</td>\n",
       "      <td>Samsung</td>\n",
       "      <td>Rambus DRAM 128Mbit</td>\n",
       "      <td>K4R271669F-TCS8</td>\n",
       "      <td>---</td>\n",
       "      <td>---</td>\n",
       "      <td>NaN</td>\n",
       "      <td>FPM Fast Page Mode</td>\n",
       "      <td>DRAM_09921</td>\n",
       "    </tr>\n",
       "    <tr>\n",
       "      <td>9922</td>\n",
       "      <td>Hyundai / LGS</td>\n",
       "      <td>Rambus 2Mx8 16M</td>\n",
       "      <td>GM73V1892H16C</td>\n",
       "      <td>USD1.65</td>\n",
       "      <td>8640</td>\n",
       "      <td>3 days</td>\n",
       "      <td>FPM Fast Page Mode</td>\n",
       "      <td>DRAM_09922</td>\n",
       "    </tr>\n",
       "    <tr>\n",
       "      <td>9923</td>\n",
       "      <td>Hyundai(LGS)</td>\n",
       "      <td>Rambus 2Mx8 16M</td>\n",
       "      <td>GM73V1892H-16C</td>\n",
       "      <td>Call</td>\n",
       "      <td>8640</td>\n",
       "      <td>3 days</td>\n",
       "      <td>FPM Fast Page Mode</td>\n",
       "      <td>DRAM_09923</td>\n",
       "    </tr>\n",
       "    <tr>\n",
       "      <td>9924</td>\n",
       "      <td>Samsung</td>\n",
       "      <td>Rambus</td>\n",
       "      <td>K4R271669H-DCS8</td>\n",
       "      <td>Call</td>\n",
       "      <td>30000</td>\n",
       "      <td>booking</td>\n",
       "      <td>FPM Fast Page Mode</td>\n",
       "      <td>DRAM_09924</td>\n",
       "    </tr>\n",
       "  </tbody>\n",
       "</table>\n",
       "<p>9925 rows × 8 columns</p>\n",
       "</div>"
      ],
      "text/plain": [
       "              Brand                Description         Part_number    Price  \\\n",
       "0                 🍄  GDDR5 256Mx32 1.35v (8Gb)     H5GQ8H24MJR-R4C  USD6.00   \n",
       "1            Micron           GDDR5 256Mx32-60  MT51J256M32HF-60:A  USD4.10   \n",
       "2                 🍄           GDDR5 256Kx32-03     K4G80325FB-HC03     Call   \n",
       "3           Samsung           GDDR5 256Kx32-28     K4G80325FB-HC28     Call   \n",
       "4            Micron           GDDR5 256Mx32-70  MT51J256M32HF-70:B  USD5.35   \n",
       "...             ...                        ...                 ...      ...   \n",
       "9920        Samsung       Direct RDRAM 288Mx18  K4R881869A-FCK8000      ---   \n",
       "9921        Samsung        Rambus DRAM 128Mbit     K4R271669F-TCS8      ---   \n",
       "9922  Hyundai / LGS            Rambus 2Mx8 16M       GM73V1892H16C  USD1.65   \n",
       "9923   Hyundai(LGS)            Rambus 2Mx8 16M      GM73V1892H-16C     Call   \n",
       "9924        Samsung                     Rambus     K4R271669H-DCS8     Call   \n",
       "\n",
       "        Qty   Remark          Group_name   Unique_ID  \n",
       "0      3200   2 days               GDDR5  DRAM_00000  \n",
       "1     10000   4 days               GDDR5  DRAM_00001  \n",
       "2       ---   5 days               GDDR5  DRAM_00002  \n",
       "3     10080   7 days               GDDR5  DRAM_00003  \n",
       "4     30000   3 days               GDDR5  DRAM_00004  \n",
       "...     ...      ...                 ...         ...  \n",
       "9920    ---      NaN  FPM Fast Page Mode  DRAM_09920  \n",
       "9921    ---      NaN  FPM Fast Page Mode  DRAM_09921  \n",
       "9922   8640   3 days  FPM Fast Page Mode  DRAM_09922  \n",
       "9923   8640   3 days  FPM Fast Page Mode  DRAM_09923  \n",
       "9924  30000  booking  FPM Fast Page Mode  DRAM_09924  \n",
       "\n",
       "[9925 rows x 8 columns]"
      ]
     },
     "metadata": {},
     "output_type": "display_data"
    }
   ],
   "source": [
    "########################################\n",
    "# 📔 Use the above example, to modify the brands to lowercase\n",
    "#    an example is shown of how to modify a cell in the dataframe\n",
    "########################################\n",
    "# 1 - load dataframe\n",
    "dataframe_example = pd.read_pickle(\"datasets/DRAM_OfferScraperOutput.pkl\")\n",
    "\n",
    "dataframe_example['Brand'][0] = \"🍄\"\n",
    "dataframe_example['Brand'][2] = \"🍄\"\n",
    "\n",
    "display(dataframe_example)"
   ]
  },
  {
   "cell_type": "markdown",
   "metadata": {
    "ein.tags": "worksheet-0",
    "slideshow": {
     "slide_type": "-"
    }
   },
   "source": [
    "# DataFrame metadata\n",
    "\n",
    "<div id=\"content\" class=\"container\">\n",
    "<div class=\"row\"><div class=\"col-md-9\"><h1 class=\"title\"></h1>\n",
    "<table class=\"table table-striped table-bordered table-hover table-condensed\">\n",
    "\n",
    "<colgroup>\n",
    "<col  class=\"left\">\n",
    "\n",
    "<col  class=\"left\">\n",
    "</colgroup>\n",
    "<tbody>\n",
    "<tr>\n",
    "<td class=\"text-left\"><code>dataframe_example.columns</code></td>\n",
    "<td class=\"text-left\">Get list of column names</td>\n",
    "</tr>\n",
    "\n",
    "<tr>\n",
    "<td class=\"text-left\"><code>dataframe_example.index</code></td>\n",
    "<td class=\"text-left\">&#xa0;</td>\n",
    "</tr>\n",
    "\n",
    "<tr>\n",
    "<td class=\"text-left\"><code>dataframe_example.count()</code></td>\n",
    "<td class=\"text-left\">Get number of non-zero values</td>\n",
    "</tr>\n",
    "\n",
    "<tr>\n",
    "<td class=\"text-left\"><code>dataframe_example.describe()['Brand']</code></td>\n",
    "<td class=\"text-left\">Describe a certain column</td>\n",
    "</tr>\n",
    "\n",
    "<tr>\n",
    "<td class=\"text-left\"><code>dataframe_example.describe()['Brand'].unique</code></td>\n",
    "<td class=\"text-left\">Describe number of unqiue values in a column</td>\n",
    "</tr>\n",
    "\n",
    "<tr>\n",
    "<td class=\"text-left\"><code>dataframe_example.describe()['Brand'].top</code></td>\n",
    "<td class=\"text-left\">Describe most frequency value in column</td>\n",
    "</tr>\n",
    "</tbody>\n",
    "</table>\n",
    "</div><div class=\"col-md-3\"></div></div></div>"
   ]
  },
  {
   "cell_type": "code",
   "execution_count": 134,
   "metadata": {
    "autoscroll": false,
    "ein.hycell": false,
    "ein.tags": "worksheet-0",
    "slideshow": {
     "slide_type": "-"
    }
   },
   "outputs": [],
   "source": [
    "########################################\n",
    "# 📔 Given an unknown DataFrame, use the function from the above table to\n",
    "#    1 - extract column names\n",
    "#    2 - determine number of unique values in each column and the top occurence\n",
    "########################################\n",
    "unknown_dataframe = pd.read_pickle(\"unknown.pkl\")"
   ]
  },
  {
   "cell_type": "markdown",
   "metadata": {
    "ein.tags": "worksheet-0",
    "slideshow": {
     "slide_type": "-"
    }
   },
   "source": [
    "# Building new dataframes\n",
    "Sometimes dataframes need to be built up from scratch - such is life. The procedure breaks down into 2 steps:\n",
    "1. Creation of the dictionary <font color=red>☩</font>;\n",
    "2. Calling of `pd.DataFrame(DICTIONARY)` to turn the dictionary onto the DataFrame;\n",
    "3. Calling of `DATAFRAME.set_index('COLUMNNAME')` to specify what to use as the index.\n",
    "\n",
    "<font color=red>☩</font> A dictionary consists of paits of names and a definitions <font color=red><b>inside curly braces {}</b></font>. Below is an example\n",
    "```python\n",
    "dictionary_example = {'Animal': [\"🐖\", \"🐄\", \"🐋\"],\n",
    "                      \"Number\": [1, 2, 4],\n",
    "                      \"Lonely Number\": 1}\n",
    "```"
   ]
  },
  {
   "cell_type": "code",
   "execution_count": 115,
   "metadata": {
    "autoscroll": false,
    "ein.hycell": false,
    "ein.tags": "worksheet-0",
    "slideshow": {
     "slide_type": "-"
    }
   },
   "outputs": [
    {
     "data": {
      "text/html": [
       "<div>\n",
       "<style scoped>\n",
       "    .dataframe tbody tr th:only-of-type {\n",
       "        vertical-align: middle;\n",
       "    }\n",
       "\n",
       "    .dataframe tbody tr th {\n",
       "        vertical-align: top;\n",
       "    }\n",
       "\n",
       "    .dataframe thead th {\n",
       "        text-align: right;\n",
       "    }\n",
       "</style>\n",
       "<table border=\"1\" class=\"dataframe\">\n",
       "  <thead>\n",
       "    <tr style=\"text-align: right;\">\n",
       "      <th></th>\n",
       "      <th>Animal</th>\n",
       "      <th>Name</th>\n",
       "    </tr>\n",
       "    <tr>\n",
       "      <th>Number</th>\n",
       "      <th></th>\n",
       "      <th></th>\n",
       "    </tr>\n",
       "  </thead>\n",
       "  <tbody>\n",
       "    <tr>\n",
       "      <td>1</td>\n",
       "      <td>🐖</td>\n",
       "      <td>Ilya</td>\n",
       "    </tr>\n",
       "    <tr>\n",
       "      <td>2</td>\n",
       "      <td>🐄</td>\n",
       "      <td>Edwin</td>\n",
       "    </tr>\n",
       "    <tr>\n",
       "      <td>4</td>\n",
       "      <td>🐋</td>\n",
       "      <td>Blake</td>\n",
       "    </tr>\n",
       "  </tbody>\n",
       "</table>\n",
       "</div>"
      ],
      "text/plain": [
       "       Animal   Name\n",
       "Number              \n",
       "1           🐖   Ilya\n",
       "2           🐄  Edwin\n",
       "4           🐋  Blake"
      ]
     },
     "execution_count": 115,
     "metadata": {},
     "output_type": "execute_result"
    }
   ],
   "source": [
    "########################################\n",
    "# 🍏 Example of creating a dataframe\n",
    "########################################\n",
    "# 1 - create the dictionary\n",
    "dictionary_example = {'Animal': [\"🐖\", \"🐄\", \"🐋\"],\n",
    "                      \"Number\": [1, 2, 4],\n",
    "                      'Name': ['Ilya', 'Edwin', 'Blake']}\n",
    "\n",
    "# 2 - turn it into a dataframe\n",
    "dataframe_example = pd.DataFrame(dictionary_example)\n",
    "\n",
    "# 3 - specify the index to use (optional)\n",
    "dataframe_example.set_index('Number')"
   ]
  },
  {
   "cell_type": "code",
   "execution_count": null,
   "metadata": {
    "autoscroll": false,
    "ein.hycell": false,
    "ein.tags": "worksheet-0",
    "slideshow": {
     "slide_type": "-"
    }
   },
   "outputs": [],
   "source": [
    "########################################\n",
    "# 📔 Create a dataframe containing 10: brands, descriptions, part_numbers\n",
    "########################################\n",
    "brand_example = ['Intel', 'Intel', 'AMD']\n",
    "description_example = ['Xeon W5580', 'Xeon E5345', 'Sempron 2500']\n",
    "part_number_example = ['CD8067303533703', 'CD8067303533002' ,'SDA3000AIO2BX']"
   ]
  },
  {
   "cell_type": "code",
   "execution_count": null,
   "metadata": {
    "autoscroll": false,
    "ein.hycell": false,
    "ein.tags": "worksheet-0",
    "slideshow": {
     "slide_type": "-"
    }
   },
   "outputs": [],
   "source": [
    "########################################\n",
    "# 📔 Datframe within dataframe\n",
    "#    1 - construct a dataframe with brand, description, part_number\n",
    "#    2 - make each description a dataframe itself, with the fields:\n",
    "#        price-history\n",
    "#        order-history\n",
    "#        component-name\n",
    "########################################\n",
    "description_example = pd.DataFrame({\"price-history\": [10, 20],\n",
    "                                    'order-history': [200, 199],\n",
    "                                    'component-name': ['Xeon W5580', 'Xeon W5580']})"
   ]
  },
  {
   "cell_type": "code",
   "execution_count": 132,
   "metadata": {
    "autoscroll": false,
    "ein.hycell": false,
    "ein.tags": "worksheet-0",
    "slideshow": {
     "slide_type": "-"
    }
   },
   "outputs": [
    {
     "data": {
      "text/html": [
       "<div>\n",
       "<style scoped>\n",
       "    .dataframe tbody tr th:only-of-type {\n",
       "        vertical-align: middle;\n",
       "    }\n",
       "\n",
       "    .dataframe tbody tr th {\n",
       "        vertical-align: top;\n",
       "    }\n",
       "\n",
       "    .dataframe thead th {\n",
       "        text-align: right;\n",
       "    }\n",
       "</style>\n",
       "<table border=\"1\" class=\"dataframe\">\n",
       "  <thead>\n",
       "    <tr style=\"text-align: right;\">\n",
       "      <th></th>\n",
       "      <th>Brand</th>\n",
       "      <th>Description</th>\n",
       "      <th>Part_number</th>\n",
       "      <th>Price</th>\n",
       "      <th>Qty</th>\n",
       "      <th>Remark</th>\n",
       "      <th>Group_name</th>\n",
       "      <th>Unique_ID</th>\n",
       "    </tr>\n",
       "  </thead>\n",
       "  <tbody>\n",
       "    <tr>\n",
       "      <td>0</td>\n",
       "      <td>SK Hynix</td>\n",
       "      <td>GDDR5 256Mx32 1.35v (8Gb)</td>\n",
       "      <td>H5GQ8H24MJR-R4C</td>\n",
       "      <td>USD6.00</td>\n",
       "      <td>3200</td>\n",
       "      <td>2 days</td>\n",
       "      <td>GDDR5</td>\n",
       "      <td>DRAM_00000</td>\n",
       "    </tr>\n",
       "    <tr>\n",
       "      <td>1</td>\n",
       "      <td>Micron</td>\n",
       "      <td>GDDR5 256Mx32-60</td>\n",
       "      <td>MT51J256M32HF-60:A</td>\n",
       "      <td>USD4.10</td>\n",
       "      <td>10000</td>\n",
       "      <td>4 days</td>\n",
       "      <td>GDDR5</td>\n",
       "      <td>DRAM_00001</td>\n",
       "    </tr>\n",
       "    <tr>\n",
       "      <td>2</td>\n",
       "      <td>Samsung</td>\n",
       "      <td>GDDR5 256Kx32-03</td>\n",
       "      <td>K4G80325FB-HC03</td>\n",
       "      <td>Call</td>\n",
       "      <td>---</td>\n",
       "      <td>5 days</td>\n",
       "      <td>GDDR5</td>\n",
       "      <td>DRAM_00002</td>\n",
       "    </tr>\n",
       "    <tr>\n",
       "      <td>3</td>\n",
       "      <td>Samsung</td>\n",
       "      <td>GDDR5 256Kx32-28</td>\n",
       "      <td>K4G80325FB-HC28</td>\n",
       "      <td>Call</td>\n",
       "      <td>10080</td>\n",
       "      <td>7 days</td>\n",
       "      <td>GDDR5</td>\n",
       "      <td>DRAM_00003</td>\n",
       "    </tr>\n",
       "    <tr>\n",
       "      <td>4</td>\n",
       "      <td>Micron</td>\n",
       "      <td>GDDR5 256Mx32-70</td>\n",
       "      <td>MT51J256M32HF-70:B</td>\n",
       "      <td>USD5.35</td>\n",
       "      <td>30000</td>\n",
       "      <td>3 days</td>\n",
       "      <td>GDDR5</td>\n",
       "      <td>DRAM_00004</td>\n",
       "    </tr>\n",
       "    <tr>\n",
       "      <td>...</td>\n",
       "      <td>...</td>\n",
       "      <td>...</td>\n",
       "      <td>...</td>\n",
       "      <td>...</td>\n",
       "      <td>...</td>\n",
       "      <td>...</td>\n",
       "      <td>...</td>\n",
       "      <td>...</td>\n",
       "    </tr>\n",
       "    <tr>\n",
       "      <td>9920</td>\n",
       "      <td>Samsung</td>\n",
       "      <td>Direct RDRAM 288Mx18</td>\n",
       "      <td>K4R881869A-FCK8000</td>\n",
       "      <td>---</td>\n",
       "      <td>---</td>\n",
       "      <td>NaN</td>\n",
       "      <td>FPM Fast Page Mode</td>\n",
       "      <td>DRAM_09920</td>\n",
       "    </tr>\n",
       "    <tr>\n",
       "      <td>9921</td>\n",
       "      <td>Samsung</td>\n",
       "      <td>Rambus DRAM 128Mbit</td>\n",
       "      <td>K4R271669F-TCS8</td>\n",
       "      <td>---</td>\n",
       "      <td>---</td>\n",
       "      <td>NaN</td>\n",
       "      <td>FPM Fast Page Mode</td>\n",
       "      <td>DRAM_09921</td>\n",
       "    </tr>\n",
       "    <tr>\n",
       "      <td>9922</td>\n",
       "      <td>Hyundai / LGS</td>\n",
       "      <td>Rambus 2Mx8 16M</td>\n",
       "      <td>GM73V1892H16C</td>\n",
       "      <td>USD1.65</td>\n",
       "      <td>8640</td>\n",
       "      <td>3 days</td>\n",
       "      <td>FPM Fast Page Mode</td>\n",
       "      <td>DRAM_09922</td>\n",
       "    </tr>\n",
       "    <tr>\n",
       "      <td>9923</td>\n",
       "      <td>Hyundai(LGS)</td>\n",
       "      <td>Rambus 2Mx8 16M</td>\n",
       "      <td>GM73V1892H-16C</td>\n",
       "      <td>Call</td>\n",
       "      <td>8640</td>\n",
       "      <td>3 days</td>\n",
       "      <td>FPM Fast Page Mode</td>\n",
       "      <td>DRAM_09923</td>\n",
       "    </tr>\n",
       "    <tr>\n",
       "      <td>9924</td>\n",
       "      <td>Samsung</td>\n",
       "      <td>Rambus</td>\n",
       "      <td>K4R271669H-DCS8</td>\n",
       "      <td>Call</td>\n",
       "      <td>30000</td>\n",
       "      <td>booking</td>\n",
       "      <td>FPM Fast Page Mode</td>\n",
       "      <td>DRAM_09924</td>\n",
       "    </tr>\n",
       "  </tbody>\n",
       "</table>\n",
       "<p>9925 rows × 8 columns</p>\n",
       "</div>"
      ],
      "text/plain": [
       "              Brand                Description         Part_number    Price  \\\n",
       "0          SK Hynix  GDDR5 256Mx32 1.35v (8Gb)     H5GQ8H24MJR-R4C  USD6.00   \n",
       "1            Micron           GDDR5 256Mx32-60  MT51J256M32HF-60:A  USD4.10   \n",
       "2           Samsung           GDDR5 256Kx32-03     K4G80325FB-HC03     Call   \n",
       "3           Samsung           GDDR5 256Kx32-28     K4G80325FB-HC28     Call   \n",
       "4            Micron           GDDR5 256Mx32-70  MT51J256M32HF-70:B  USD5.35   \n",
       "...             ...                        ...                 ...      ...   \n",
       "9920        Samsung       Direct RDRAM 288Mx18  K4R881869A-FCK8000      ---   \n",
       "9921        Samsung        Rambus DRAM 128Mbit     K4R271669F-TCS8      ---   \n",
       "9922  Hyundai / LGS            Rambus 2Mx8 16M       GM73V1892H16C  USD1.65   \n",
       "9923   Hyundai(LGS)            Rambus 2Mx8 16M      GM73V1892H-16C     Call   \n",
       "9924        Samsung                     Rambus     K4R271669H-DCS8     Call   \n",
       "\n",
       "        Qty   Remark          Group_name   Unique_ID  \n",
       "0      3200   2 days               GDDR5  DRAM_00000  \n",
       "1     10000   4 days               GDDR5  DRAM_00001  \n",
       "2       ---   5 days               GDDR5  DRAM_00002  \n",
       "3     10080   7 days               GDDR5  DRAM_00003  \n",
       "4     30000   3 days               GDDR5  DRAM_00004  \n",
       "...     ...      ...                 ...         ...  \n",
       "9920    ---      NaN  FPM Fast Page Mode  DRAM_09920  \n",
       "9921    ---      NaN  FPM Fast Page Mode  DRAM_09921  \n",
       "9922   8640   3 days  FPM Fast Page Mode  DRAM_09922  \n",
       "9923   8640   3 days  FPM Fast Page Mode  DRAM_09923  \n",
       "9924  30000  booking  FPM Fast Page Mode  DRAM_09924  \n",
       "\n",
       "[9925 rows x 8 columns]"
      ]
     },
     "metadata": {},
     "output_type": "display_data"
    }
   ],
   "source": [
    "########################################\n",
    "# 🍏 Renaming columns\n",
    "########################################\n",
    "dataframe_example = pd.read_pickle(\"datasets/DRAM_OfferScraperOutput.pkl\")\n",
    "\n",
    "dataframe_example = dataframe_example.rename(index=str,\n",
    "                                             columns={\"Brands\":\"🍄\",})\n",
    "\n",
    "display(dataframe_example)"
   ]
  },
  {
   "cell_type": "markdown",
   "metadata": {
    "ein.tags": "worksheet-0",
    "slideshow": {
     "slide_type": "-"
    }
   },
   "source": [
    "# Merging dataframes\n",
    "DataFrames are merged together with the function `pd.concat`\n",
    "- <font color=red>axis=1</font> in order to add new columns;\n",
    "- <font color=red><code>join='inner'</code></font> to crop the DataFrame to match the shortest Dataframe;\n",
    "- <font color=red><code>join='outer'</code></font> to expand the DataFrame to match the longest DataFrame;"
   ]
  },
  {
   "cell_type": "code",
   "execution_count": 131,
   "metadata": {
    "autoscroll": false,
    "ein.hycell": false,
    "ein.tags": "worksheet-0",
    "slideshow": {
     "slide_type": "-"
    }
   },
   "outputs": [
    {
     "data": {
      "text/html": [
       "<div>\n",
       "<style scoped>\n",
       "    .dataframe tbody tr th:only-of-type {\n",
       "        vertical-align: middle;\n",
       "    }\n",
       "\n",
       "    .dataframe tbody tr th {\n",
       "        vertical-align: top;\n",
       "    }\n",
       "\n",
       "    .dataframe thead th {\n",
       "        text-align: right;\n",
       "    }\n",
       "</style>\n",
       "<table border=\"1\" class=\"dataframe\">\n",
       "  <thead>\n",
       "    <tr style=\"text-align: right;\">\n",
       "      <th></th>\n",
       "      <th>Brand</th>\n",
       "      <th>Description</th>\n",
       "      <th>Part_Number</th>\n",
       "      <th>Qty</th>\n",
       "      <th>Price</th>\n",
       "    </tr>\n",
       "  </thead>\n",
       "  <tbody>\n",
       "    <tr>\n",
       "      <td>0</td>\n",
       "      <td>Intel</td>\n",
       "      <td>Xeon W5580</td>\n",
       "      <td>CD8067303533703</td>\n",
       "      <td>10</td>\n",
       "      <td>200</td>\n",
       "    </tr>\n",
       "    <tr>\n",
       "      <td>1</td>\n",
       "      <td>Intel</td>\n",
       "      <td>Xeon E5345</td>\n",
       "      <td>CD8067303533002</td>\n",
       "      <td>30</td>\n",
       "      <td>100</td>\n",
       "    </tr>\n",
       "    <tr>\n",
       "      <td>2</td>\n",
       "      <td>AMD</td>\n",
       "      <td>Sempron 2500</td>\n",
       "      <td>SDA3000AIO2BX</td>\n",
       "      <td>40</td>\n",
       "      <td>300</td>\n",
       "    </tr>\n",
       "    <tr>\n",
       "      <td>3</td>\n",
       "      <td>NaN</td>\n",
       "      <td>NaN</td>\n",
       "      <td>NaN</td>\n",
       "      <td>40</td>\n",
       "      <td>400</td>\n",
       "    </tr>\n",
       "  </tbody>\n",
       "</table>\n",
       "</div>"
      ],
      "text/plain": [
       "   Brand   Description      Part_Number  Qty  Price\n",
       "0  Intel    Xeon W5580  CD8067303533703   10    200\n",
       "1  Intel    Xeon E5345  CD8067303533002   30    100\n",
       "2    AMD  Sempron 2500    SDA3000AIO2BX   40    300\n",
       "3    NaN           NaN              NaN   40    400"
      ]
     },
     "metadata": {},
     "output_type": "display_data"
    },
    {
     "data": {
      "text/html": [
       "<div>\n",
       "<style scoped>\n",
       "    .dataframe tbody tr th:only-of-type {\n",
       "        vertical-align: middle;\n",
       "    }\n",
       "\n",
       "    .dataframe tbody tr th {\n",
       "        vertical-align: top;\n",
       "    }\n",
       "\n",
       "    .dataframe thead th {\n",
       "        text-align: right;\n",
       "    }\n",
       "</style>\n",
       "<table border=\"1\" class=\"dataframe\">\n",
       "  <thead>\n",
       "    <tr style=\"text-align: right;\">\n",
       "      <th></th>\n",
       "      <th>Brand</th>\n",
       "      <th>Description</th>\n",
       "      <th>Part_Number</th>\n",
       "      <th>Qty</th>\n",
       "      <th>Price</th>\n",
       "    </tr>\n",
       "  </thead>\n",
       "  <tbody>\n",
       "    <tr>\n",
       "      <td>0</td>\n",
       "      <td>Intel</td>\n",
       "      <td>Xeon W5580</td>\n",
       "      <td>CD8067303533703</td>\n",
       "      <td>10</td>\n",
       "      <td>200</td>\n",
       "    </tr>\n",
       "    <tr>\n",
       "      <td>1</td>\n",
       "      <td>Intel</td>\n",
       "      <td>Xeon E5345</td>\n",
       "      <td>CD8067303533002</td>\n",
       "      <td>30</td>\n",
       "      <td>100</td>\n",
       "    </tr>\n",
       "    <tr>\n",
       "      <td>2</td>\n",
       "      <td>AMD</td>\n",
       "      <td>Sempron 2500</td>\n",
       "      <td>SDA3000AIO2BX</td>\n",
       "      <td>40</td>\n",
       "      <td>300</td>\n",
       "    </tr>\n",
       "  </tbody>\n",
       "</table>\n",
       "</div>"
      ],
      "text/plain": [
       "   Brand   Description      Part_Number  Qty  Price\n",
       "0  Intel    Xeon W5580  CD8067303533703   10    200\n",
       "1  Intel    Xeon E5345  CD8067303533002   30    100\n",
       "2    AMD  Sempron 2500    SDA3000AIO2BX   40    300"
      ]
     },
     "metadata": {},
     "output_type": "display_data"
    }
   ],
   "source": [
    "########################################\n",
    "# 🍏 Merging of dataframes\n",
    "########################################\n",
    "# 1 - create the dataframes\n",
    "dataframe1 = pd.DataFrame({'Brand': ['Intel', 'Intel', 'AMD'],\n",
    "                          \"Description\": ['Xeon W5580', 'Xeon E5345', 'Sempron 2500'],\n",
    "                          'Part_Number': ['CD8067303533703',\n",
    "                                          'CD8067303533002','SDA3000AIO2BX']})\n",
    "dataframe2 = pd.DataFrame({'Qty': [10, 30, 40, 40],\n",
    "                           'Price': [200, 100, 300, 400]})\n",
    "\n",
    "# 2 - combine using the shortest dataframe\n",
    "display(pd.concat([dataframe1, dataframe2], axis=1, join='outer'))\n",
    "\n",
    "# 3 - combine using the longest dataframe\n",
    "display(pd.concat([dataframe1, dataframe2], axis=1, join='inner'))"
   ]
  },
  {
   "cell_type": "code",
   "execution_count": null,
   "metadata": {
    "autoscroll": false,
    "ein.hycell": false,
    "ein.tags": "worksheet-0",
    "slideshow": {
     "slide_type": "-"
    }
   },
   "outputs": [],
   "source": [
    "########################################\n",
    "# 📔 Combine Brand and Description columns from file 1 with Qty and Price columns of file2\n",
    "########################################\n",
    "\n",
    "file1 = \"datasets/SSD_OfferScraperOutput.pkl\"\n",
    "file2 = \"datasets/Module_OfferScraperOutput.pkl\""
   ]
  },
  {
   "cell_type": "markdown",
   "metadata": {
    "ein.tags": "worksheet-0",
    "slideshow": {
     "slide_type": "-"
    }
   },
   "source": [
    "# Saving Dataframes\n",
    "Dataframes are saved in a single instruction:\n",
    "1. Open a file of your choice in write mode (`wb`);\n",
    "2. Call it `fout` (of whatever is appropriate)\n",
    "3. Call the `pickle.dump` function on the dataframe to save, and specify `fout`"
   ]
  },
  {
   "cell_type": "code",
   "execution_count": 122,
   "metadata": {
    "autoscroll": false,
    "ein.hycell": false,
    "ein.tags": "worksheet-0",
    "slideshow": {
     "slide_type": "-"
    }
   },
   "outputs": [],
   "source": [
    "with open(\"datasets/temp.pkl\", \"wb\") as fout:\n",
    "    pickle.dump(dataframe, fout)\n",
    "\n",
    "########################################\n",
    "# 📔 Save all dataframes in this fashion\n",
    "########################################"
   ]
  },
  {
   "cell_type": "markdown",
   "metadata": {
    "ein.tags": "worksheet-0",
    "slideshow": {
     "slide_type": "-"
    }
   },
   "source": [
    "# Empty values and duplicates\n",
    "Occasionally the DataFrame will be littered with values that either need to be dropped or filled\n",
    "\n",
    "<div id=\"content\" class=\"container\">\n",
    "<div class=\"row\"><div class=\"col-md-9\"><h1 class=\"title\"></h1>\n",
    "<table class=\"table table-striped table-bordered table-hover table-condensed\">\n",
    "\n",
    "\n",
    "<colgroup>\n",
    "<col  class=\"left\">\n",
    "\n",
    "<col  class=\"left\">\n",
    "</colgroup>\n",
    "<thead>\n",
    "<tr>\n",
    "<th scope=\"col\" class=\"text-left\"><code>dataframe_example.drop(['Brand'], axis=1)</code></th>\n",
    "<th scope=\"col\" class=\"text-left\">drop a whole column</th>\n",
    "</tr>\n",
    "\n",
    "<tr>\n",
    "<th scope=\"col\" class=\"text-left\"><code>dataframe_example.drop([0, 67, 544])</code></th>\n",
    "<th scope=\"col\" class=\"text-left\">dropping at particular indexes</th>\n",
    "</tr>\n",
    "\n",
    "<tr>\n",
    "<th scope=\"col\" class=\"text-left\"><code>dataframe_example.dropna(axis=0)</code></th>\n",
    "<th scope=\"col\" class=\"text-left\">drop rows with missing values</th>\n",
    "</tr>\n",
    "\n",
    "<tr>\n",
    "<th scope=\"col\" class=\"text-left\"><code>dataframe_example.dropna(axis=1)</code></th>\n",
    "<th scope=\"col\" class=\"text-left\">delete columns with missing values</th>\n",
    "</tr>\n",
    "\n",
    "<tr>\n",
    "<th scope=\"col\" class=\"text-left\"><code>dataframe_example.fillna(\"🍄\")</code></th>\n",
    "<th scope=\"col\" class=\"text-left\">replace missing values</th>\n",
    "</tr>\n",
    "</thead>\n",
    "<tbody>\n",
    "<tr>\n",
    "<td class=\"text-left\"><code>dataframe_example.duplicated('Brand')</code></td>\n",
    "<td class=\"text-left\">drop duplicates in a given column</td>\n",
    "</tr>\n",
    "\n",
    "<tr>\n",
    "<td class=\"text-left\"><code>dataframe_example.drop_duplicates(False)</code></td>\n",
    "<td class=\"text-left\">drop all duplicates</td>\n",
    "</tr>"
   ]
  },
  {
   "cell_type": "code",
   "execution_count": null,
   "metadata": {
    "autoscroll": false,
    "ein.hycell": false,
    "ein.tags": "worksheet-0",
    "slideshow": {
     "slide_type": "-"
    }
   },
   "outputs": [],
   "source": [
    "########################################\n",
    "# 📔 \n",
    "#    1 - Remove all columns with duplicates in the following dataframe\n",
    "#    2 - Delete the 'Brand' and 'Description' columns\n",
    "#    3 - Add new 'Brand' and 'Description' columns but with empty values\n",
    "#    4 - Replace the empty values with generic strings\n",
    "########################################\n",
    "dataframe_example = pd.read_pickle(\"datasets/DRAM_OfferScraperOutput.pkl\")\n"
   ]
  },
  {
   "cell_type": "markdown",
   "metadata": {
    "ein.tags": "worksheet-0",
    "slideshow": {
     "slide_type": "-"
    }
   },
   "source": [
    "# Additional features"
   ]
  },
  {
   "cell_type": "code",
   "execution_count": null,
   "metadata": {
    "autoscroll": false,
    "ein.hycell": false,
    "ein.tags": "worksheet-0",
    "slideshow": {
     "slide_type": "-"
    }
   },
   "outputs": [],
   "source": [
    "train['Item_Visibility'] = train['Item_Visibility'].replace(0,np.mean(train['Item_Visibility']))\n",
    "X = train.loc[:,['Outlet_Establishment_Year','Item_MRP']]\n",
    "train['Item_Weight'].fillna((train['Item_Weight'].mean()), inplace=True)\n",
    "train['Outlet_Size'].fillna('Small',inplace=True)"
   ]
  },
  {
   "cell_type": "markdown",
   "metadata": {
    "ein.tags": "worksheet-0",
    "slideshow": {
     "slide_type": "-"
    }
   },
   "source": [
    "# Extracting columns"
   ]
  },
  {
   "cell_type": "code",
   "execution_count": null,
   "metadata": {
    "autoscroll": false,
    "ein.hycell": false,
    "ein.tags": "worksheet-0",
    "slideshow": {
     "slide_type": "-"
    }
   },
   "outputs": [],
   "source": [
    "import pandas as pd\n",
    "import numpy as np\n",
    "a = pd.DataFrame({\"Horse\": [1, 2, 3, 4], \"Jockey\": [\"A\", \"B\", \"C\", \"D\"]})\n",
    "print(a.loc[:, 'Horse'])\n",
    "print(\"🐋🐋🐋🐋🐋🐋🐋🐋\")\n",
    "print(a.loc[:, ['Horse', 'Jockey']])\n",
    "a['Horse'].replace(3, np.mean(a['Horse']), inplace=True)\n",
    "a['Horse'].replace(1, \"🐋\", inplace=True)\n",
    "\n",
    "print(a)\n"
   ]
  },
  {
   "cell_type": "markdown",
   "metadata": {
    "ein.tags": "worksheet-0",
    "slideshow": {
     "slide_type": "-"
    }
   },
   "source": [
    "# Getting \"Dummies\" i.e turning cells into categories"
   ]
  },
  {
   "cell_type": "code",
   "execution_count": 14,
   "metadata": {
    "autoscroll": false,
    "ein.hycell": false,
    "ein.tags": "worksheet-0",
    "slideshow": {
     "slide_type": "-"
    }
   },
   "outputs": [
    {
     "name": "stdout",
     "output_type": "stream",
     "text": [
      "0    1\n",
      "1    2\n",
      "2    3\n",
      "3    4\n",
      "Name: Horse, dtype: int64\n",
      "🐋🐋🐋🐋🐋🐋🐋🐋\n",
      "   Horse Jockey\n",
      "0      1      A\n",
      "1      2      B\n",
      "2      3      C\n",
      "3      4      D\n",
      "  Horse Jockey\n",
      "0     🐋      A\n",
      "1     2      B\n",
      "2   2.5      C\n",
      "3     4      D\n"
     ]
    },
    {
     "data": {
      "text/html": [
       "<div>\n",
       "<style scoped>\n",
       "    .dataframe tbody tr th:only-of-type {\n",
       "        vertical-align: middle;\n",
       "    }\n",
       "\n",
       "    .dataframe tbody tr th {\n",
       "        vertical-align: top;\n",
       "    }\n",
       "\n",
       "    .dataframe thead th {\n",
       "        text-align: right;\n",
       "    }\n",
       "</style>\n",
       "<table border=\"1\" class=\"dataframe\">\n",
       "  <thead>\n",
       "    <tr style=\"text-align: right;\">\n",
       "      <th></th>\n",
       "      <th>2.0</th>\n",
       "      <th>2.5</th>\n",
       "      <th>4.0</th>\n",
       "      <th>🐋</th>\n",
       "    </tr>\n",
       "  </thead>\n",
       "  <tbody>\n",
       "    <tr>\n",
       "      <td>0</td>\n",
       "      <td>0</td>\n",
       "      <td>0</td>\n",
       "      <td>0</td>\n",
       "      <td>1</td>\n",
       "    </tr>\n",
       "    <tr>\n",
       "      <td>1</td>\n",
       "      <td>1</td>\n",
       "      <td>0</td>\n",
       "      <td>0</td>\n",
       "      <td>0</td>\n",
       "    </tr>\n",
       "    <tr>\n",
       "      <td>2</td>\n",
       "      <td>0</td>\n",
       "      <td>1</td>\n",
       "      <td>0</td>\n",
       "      <td>0</td>\n",
       "    </tr>\n",
       "    <tr>\n",
       "      <td>3</td>\n",
       "      <td>0</td>\n",
       "      <td>0</td>\n",
       "      <td>1</td>\n",
       "      <td>0</td>\n",
       "    </tr>\n",
       "  </tbody>\n",
       "</table>\n",
       "</div>"
      ],
      "text/plain": [
       "   2.0  2.5  4.0  🐋\n",
       "0    0    0    0  1\n",
       "1    1    0    0  0\n",
       "2    0    1    0  0\n",
       "3    0    0    1  0"
      ]
     },
     "execution_count": 14,
     "metadata": {},
     "output_type": "execute_result"
    }
   ],
   "source": [
    "pd.get_dummies(a['Horse'])"
   ]
  },
  {
   "cell_type": "code",
   "execution_count": null,
   "metadata": {
    "autoscroll": false,
    "ein.hycell": false,
    "ein.tags": "worksheet-0",
    "slideshow": {
     "slide_type": "-"
    }
   },
   "outputs": [],
   "source": [
    "for idx, i in bet_portfolio.iterrows():\n",
    "    \n",
    "    # selecting only certain elements\n",
    "prediction_dataframe[prediction_dataframe['Payout'] > 2]"
   ]
  }
 ],
 "metadata": {
  "kernelspec": {
   "display_name": "Python 3",
   "language": "python",
   "name": "python3"
  },
  "language_info": {
   "codemirror_mode": {
    "name": "ipython",
    "version": 3
   },
   "file_extension": ".py",
   "mimetype": "text/x-python",
   "name": "python",
   "nbconvert_exporter": "python",
   "pygments_lexer": "ipython3",
   "version": "3.7.7"
  },
  "name": "material_dataframes_notebook.ipynb"
 },
 "nbformat": 4,
 "nbformat_minor": 2
}
